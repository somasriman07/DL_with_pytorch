{
  "nbformat": 4,
  "nbformat_minor": 0,
  "metadata": {
    "colab": {
      "provenance": []
    },
    "kernelspec": {
      "name": "python3",
      "display_name": "Python 3"
    },
    "language_info": {
      "name": "python"
    }
  },
  "cells": [
    {
      "cell_type": "markdown",
      "source": [
        "DropOut\n",
        "\n",
        "1) we will apply dropout in the hiddenlayers\n",
        "\n",
        "2) Applied after relu activation function\n",
        "\n",
        "3) Randomly turnoff p% of neuron in hiddenlayer uring each forward pass.\n",
        "   Here we are simplyfing the model aechitecture.\n",
        "\n",
        "4) This has a regularization effect -> reduces overfitting\n",
        "\n",
        "5) during evaluation dropout are not used\n",
        "\n",
        "nn.DropOut(p=0.8)\n",
        "\n"
      ],
      "metadata": {
        "id": "0iE4dhUbCQ0N"
      }
    },
    {
      "cell_type": "markdown",
      "source": [
        "Batch Normalization\n",
        "\n",
        "1) Applied to Hiddenlayers\n",
        "\n",
        "2) Applied after linear layer before activation function\n",
        "\n",
        "3) Normalize activations -> By taking the mean and variance\n",
        "\n",
        "4) Includes Learnable parameters -> Gamma and beta\n",
        "\n",
        "5) Improves Training stability -> Reduces the covariance shift\n",
        "\n",
        "6) Regularization effect\n",
        "\n",
        "7) During evaluation we will not calculate the BN ... what we calculate at the trainging time that will be the value of that.\n",
        "\n",
        "nn.BatchNorm1d(layers nurons)"
      ],
      "metadata": {
        "id": "-eda6GW1DZhU"
      }
    },
    {
      "cell_type": "markdown",
      "source": [
        "Regularization\n",
        "\n",
        "1) Applied to Model weights ....not on model bias\n",
        "\n",
        "2) Introduce via loss function (Penalty term)\n",
        "\n",
        "3)  w<- w-n*(Loss+penalty) <- weight decay\n",
        "\n",
        "4) Penalize large weights\n",
        "\n",
        "5) controlled by hyper parameter (lamdha)\n",
        "\n",
        "optimizer = torch.optim.SGD(model.parameeters(),learning rate,weight_decay=1e-4->(10^-4))"
      ],
      "metadata": {
        "id": "AaQQAFq7Ff1I"
      }
    },
    {
      "cell_type": "code",
      "source": [
        "import pandas as pd\n",
        "\n",
        "data = pd.read_csv(\"/content/fmnist_small.csv\")\n",
        "\n",
        "data.head()"
      ],
      "metadata": {
        "colab": {
          "base_uri": "https://localhost:8080/",
          "height": 255
        },
        "id": "RI6aI2vXMIFb",
        "outputId": "901e9368-57ac-43f5-befe-d948dd4d8dc9"
      },
      "execution_count": null,
      "outputs": [
        {
          "output_type": "execute_result",
          "data": {
            "text/plain": [
              "   label  pixel1  pixel2  pixel3  pixel4  pixel5  pixel6  pixel7  pixel8  \\\n",
              "0      9       0       0       0       0       0       0       0       0   \n",
              "1      7       0       0       0       0       0       0       0       0   \n",
              "2      0       0       0       0       0       0       1       0       0   \n",
              "3      8       0       0       0       0       0       0       0       0   \n",
              "4      8       0       0       0       0       0       0       0       0   \n",
              "\n",
              "   pixel9  ...  pixel775  pixel776  pixel777  pixel778  pixel779  pixel780  \\\n",
              "0       0  ...       0.0       7.0       0.0      50.0     205.0     196.0   \n",
              "1       0  ...       0.0       0.0       0.0       0.0       0.0       0.0   \n",
              "2       0  ...     142.0     142.0     142.0      21.0       0.0       3.0   \n",
              "3       0  ...       0.0       0.0       0.0       0.0       0.0       0.0   \n",
              "4       0  ...     213.0     203.0     174.0     151.0     188.0      10.0   \n",
              "\n",
              "   pixel781  pixel782  pixel783  pixel784  \n",
              "0     213.0     165.0       0.0       0.0  \n",
              "1       0.0       0.0       0.0       0.0  \n",
              "2       0.0       0.0       0.0       0.0  \n",
              "3       0.0       0.0       0.0       0.0  \n",
              "4       0.0       0.0       0.0       0.0  \n",
              "\n",
              "[5 rows x 785 columns]"
            ],
            "text/html": [
              "\n",
              "  <div id=\"df-82e5dc32-e322-47e4-8ab5-9cb3caec89fa\" class=\"colab-df-container\">\n",
              "    <div>\n",
              "<style scoped>\n",
              "    .dataframe tbody tr th:only-of-type {\n",
              "        vertical-align: middle;\n",
              "    }\n",
              "\n",
              "    .dataframe tbody tr th {\n",
              "        vertical-align: top;\n",
              "    }\n",
              "\n",
              "    .dataframe thead th {\n",
              "        text-align: right;\n",
              "    }\n",
              "</style>\n",
              "<table border=\"1\" class=\"dataframe\">\n",
              "  <thead>\n",
              "    <tr style=\"text-align: right;\">\n",
              "      <th></th>\n",
              "      <th>label</th>\n",
              "      <th>pixel1</th>\n",
              "      <th>pixel2</th>\n",
              "      <th>pixel3</th>\n",
              "      <th>pixel4</th>\n",
              "      <th>pixel5</th>\n",
              "      <th>pixel6</th>\n",
              "      <th>pixel7</th>\n",
              "      <th>pixel8</th>\n",
              "      <th>pixel9</th>\n",
              "      <th>...</th>\n",
              "      <th>pixel775</th>\n",
              "      <th>pixel776</th>\n",
              "      <th>pixel777</th>\n",
              "      <th>pixel778</th>\n",
              "      <th>pixel779</th>\n",
              "      <th>pixel780</th>\n",
              "      <th>pixel781</th>\n",
              "      <th>pixel782</th>\n",
              "      <th>pixel783</th>\n",
              "      <th>pixel784</th>\n",
              "    </tr>\n",
              "  </thead>\n",
              "  <tbody>\n",
              "    <tr>\n",
              "      <th>0</th>\n",
              "      <td>9</td>\n",
              "      <td>0</td>\n",
              "      <td>0</td>\n",
              "      <td>0</td>\n",
              "      <td>0</td>\n",
              "      <td>0</td>\n",
              "      <td>0</td>\n",
              "      <td>0</td>\n",
              "      <td>0</td>\n",
              "      <td>0</td>\n",
              "      <td>...</td>\n",
              "      <td>0.0</td>\n",
              "      <td>7.0</td>\n",
              "      <td>0.0</td>\n",
              "      <td>50.0</td>\n",
              "      <td>205.0</td>\n",
              "      <td>196.0</td>\n",
              "      <td>213.0</td>\n",
              "      <td>165.0</td>\n",
              "      <td>0.0</td>\n",
              "      <td>0.0</td>\n",
              "    </tr>\n",
              "    <tr>\n",
              "      <th>1</th>\n",
              "      <td>7</td>\n",
              "      <td>0</td>\n",
              "      <td>0</td>\n",
              "      <td>0</td>\n",
              "      <td>0</td>\n",
              "      <td>0</td>\n",
              "      <td>0</td>\n",
              "      <td>0</td>\n",
              "      <td>0</td>\n",
              "      <td>0</td>\n",
              "      <td>...</td>\n",
              "      <td>0.0</td>\n",
              "      <td>0.0</td>\n",
              "      <td>0.0</td>\n",
              "      <td>0.0</td>\n",
              "      <td>0.0</td>\n",
              "      <td>0.0</td>\n",
              "      <td>0.0</td>\n",
              "      <td>0.0</td>\n",
              "      <td>0.0</td>\n",
              "      <td>0.0</td>\n",
              "    </tr>\n",
              "    <tr>\n",
              "      <th>2</th>\n",
              "      <td>0</td>\n",
              "      <td>0</td>\n",
              "      <td>0</td>\n",
              "      <td>0</td>\n",
              "      <td>0</td>\n",
              "      <td>0</td>\n",
              "      <td>1</td>\n",
              "      <td>0</td>\n",
              "      <td>0</td>\n",
              "      <td>0</td>\n",
              "      <td>...</td>\n",
              "      <td>142.0</td>\n",
              "      <td>142.0</td>\n",
              "      <td>142.0</td>\n",
              "      <td>21.0</td>\n",
              "      <td>0.0</td>\n",
              "      <td>3.0</td>\n",
              "      <td>0.0</td>\n",
              "      <td>0.0</td>\n",
              "      <td>0.0</td>\n",
              "      <td>0.0</td>\n",
              "    </tr>\n",
              "    <tr>\n",
              "      <th>3</th>\n",
              "      <td>8</td>\n",
              "      <td>0</td>\n",
              "      <td>0</td>\n",
              "      <td>0</td>\n",
              "      <td>0</td>\n",
              "      <td>0</td>\n",
              "      <td>0</td>\n",
              "      <td>0</td>\n",
              "      <td>0</td>\n",
              "      <td>0</td>\n",
              "      <td>...</td>\n",
              "      <td>0.0</td>\n",
              "      <td>0.0</td>\n",
              "      <td>0.0</td>\n",
              "      <td>0.0</td>\n",
              "      <td>0.0</td>\n",
              "      <td>0.0</td>\n",
              "      <td>0.0</td>\n",
              "      <td>0.0</td>\n",
              "      <td>0.0</td>\n",
              "      <td>0.0</td>\n",
              "    </tr>\n",
              "    <tr>\n",
              "      <th>4</th>\n",
              "      <td>8</td>\n",
              "      <td>0</td>\n",
              "      <td>0</td>\n",
              "      <td>0</td>\n",
              "      <td>0</td>\n",
              "      <td>0</td>\n",
              "      <td>0</td>\n",
              "      <td>0</td>\n",
              "      <td>0</td>\n",
              "      <td>0</td>\n",
              "      <td>...</td>\n",
              "      <td>213.0</td>\n",
              "      <td>203.0</td>\n",
              "      <td>174.0</td>\n",
              "      <td>151.0</td>\n",
              "      <td>188.0</td>\n",
              "      <td>10.0</td>\n",
              "      <td>0.0</td>\n",
              "      <td>0.0</td>\n",
              "      <td>0.0</td>\n",
              "      <td>0.0</td>\n",
              "    </tr>\n",
              "  </tbody>\n",
              "</table>\n",
              "<p>5 rows × 785 columns</p>\n",
              "</div>\n",
              "    <div class=\"colab-df-buttons\">\n",
              "\n",
              "  <div class=\"colab-df-container\">\n",
              "    <button class=\"colab-df-convert\" onclick=\"convertToInteractive('df-82e5dc32-e322-47e4-8ab5-9cb3caec89fa')\"\n",
              "            title=\"Convert this dataframe to an interactive table.\"\n",
              "            style=\"display:none;\">\n",
              "\n",
              "  <svg xmlns=\"http://www.w3.org/2000/svg\" height=\"24px\" viewBox=\"0 -960 960 960\">\n",
              "    <path d=\"M120-120v-720h720v720H120Zm60-500h600v-160H180v160Zm220 220h160v-160H400v160Zm0 220h160v-160H400v160ZM180-400h160v-160H180v160Zm440 0h160v-160H620v160ZM180-180h160v-160H180v160Zm440 0h160v-160H620v160Z\"/>\n",
              "  </svg>\n",
              "    </button>\n",
              "\n",
              "  <style>\n",
              "    .colab-df-container {\n",
              "      display:flex;\n",
              "      gap: 12px;\n",
              "    }\n",
              "\n",
              "    .colab-df-convert {\n",
              "      background-color: #E8F0FE;\n",
              "      border: none;\n",
              "      border-radius: 50%;\n",
              "      cursor: pointer;\n",
              "      display: none;\n",
              "      fill: #1967D2;\n",
              "      height: 32px;\n",
              "      padding: 0 0 0 0;\n",
              "      width: 32px;\n",
              "    }\n",
              "\n",
              "    .colab-df-convert:hover {\n",
              "      background-color: #E2EBFA;\n",
              "      box-shadow: 0px 1px 2px rgba(60, 64, 67, 0.3), 0px 1px 3px 1px rgba(60, 64, 67, 0.15);\n",
              "      fill: #174EA6;\n",
              "    }\n",
              "\n",
              "    .colab-df-buttons div {\n",
              "      margin-bottom: 4px;\n",
              "    }\n",
              "\n",
              "    [theme=dark] .colab-df-convert {\n",
              "      background-color: #3B4455;\n",
              "      fill: #D2E3FC;\n",
              "    }\n",
              "\n",
              "    [theme=dark] .colab-df-convert:hover {\n",
              "      background-color: #434B5C;\n",
              "      box-shadow: 0px 1px 3px 1px rgba(0, 0, 0, 0.15);\n",
              "      filter: drop-shadow(0px 1px 2px rgba(0, 0, 0, 0.3));\n",
              "      fill: #FFFFFF;\n",
              "    }\n",
              "  </style>\n",
              "\n",
              "    <script>\n",
              "      const buttonEl =\n",
              "        document.querySelector('#df-82e5dc32-e322-47e4-8ab5-9cb3caec89fa button.colab-df-convert');\n",
              "      buttonEl.style.display =\n",
              "        google.colab.kernel.accessAllowed ? 'block' : 'none';\n",
              "\n",
              "      async function convertToInteractive(key) {\n",
              "        const element = document.querySelector('#df-82e5dc32-e322-47e4-8ab5-9cb3caec89fa');\n",
              "        const dataTable =\n",
              "          await google.colab.kernel.invokeFunction('convertToInteractive',\n",
              "                                                    [key], {});\n",
              "        if (!dataTable) return;\n",
              "\n",
              "        const docLinkHtml = 'Like what you see? Visit the ' +\n",
              "          '<a target=\"_blank\" href=https://colab.research.google.com/notebooks/data_table.ipynb>data table notebook</a>'\n",
              "          + ' to learn more about interactive tables.';\n",
              "        element.innerHTML = '';\n",
              "        dataTable['output_type'] = 'display_data';\n",
              "        await google.colab.output.renderOutput(dataTable, element);\n",
              "        const docLink = document.createElement('div');\n",
              "        docLink.innerHTML = docLinkHtml;\n",
              "        element.appendChild(docLink);\n",
              "      }\n",
              "    </script>\n",
              "  </div>\n",
              "\n",
              "\n",
              "    <div id=\"df-9ec43e80-71e4-4def-b2c0-6bf0301bf3dd\">\n",
              "      <button class=\"colab-df-quickchart\" onclick=\"quickchart('df-9ec43e80-71e4-4def-b2c0-6bf0301bf3dd')\"\n",
              "                title=\"Suggest charts\"\n",
              "                style=\"display:none;\">\n",
              "\n",
              "<svg xmlns=\"http://www.w3.org/2000/svg\" height=\"24px\"viewBox=\"0 0 24 24\"\n",
              "     width=\"24px\">\n",
              "    <g>\n",
              "        <path d=\"M19 3H5c-1.1 0-2 .9-2 2v14c0 1.1.9 2 2 2h14c1.1 0 2-.9 2-2V5c0-1.1-.9-2-2-2zM9 17H7v-7h2v7zm4 0h-2V7h2v10zm4 0h-2v-4h2v4z\"/>\n",
              "    </g>\n",
              "</svg>\n",
              "      </button>\n",
              "\n",
              "<style>\n",
              "  .colab-df-quickchart {\n",
              "      --bg-color: #E8F0FE;\n",
              "      --fill-color: #1967D2;\n",
              "      --hover-bg-color: #E2EBFA;\n",
              "      --hover-fill-color: #174EA6;\n",
              "      --disabled-fill-color: #AAA;\n",
              "      --disabled-bg-color: #DDD;\n",
              "  }\n",
              "\n",
              "  [theme=dark] .colab-df-quickchart {\n",
              "      --bg-color: #3B4455;\n",
              "      --fill-color: #D2E3FC;\n",
              "      --hover-bg-color: #434B5C;\n",
              "      --hover-fill-color: #FFFFFF;\n",
              "      --disabled-bg-color: #3B4455;\n",
              "      --disabled-fill-color: #666;\n",
              "  }\n",
              "\n",
              "  .colab-df-quickchart {\n",
              "    background-color: var(--bg-color);\n",
              "    border: none;\n",
              "    border-radius: 50%;\n",
              "    cursor: pointer;\n",
              "    display: none;\n",
              "    fill: var(--fill-color);\n",
              "    height: 32px;\n",
              "    padding: 0;\n",
              "    width: 32px;\n",
              "  }\n",
              "\n",
              "  .colab-df-quickchart:hover {\n",
              "    background-color: var(--hover-bg-color);\n",
              "    box-shadow: 0 1px 2px rgba(60, 64, 67, 0.3), 0 1px 3px 1px rgba(60, 64, 67, 0.15);\n",
              "    fill: var(--button-hover-fill-color);\n",
              "  }\n",
              "\n",
              "  .colab-df-quickchart-complete:disabled,\n",
              "  .colab-df-quickchart-complete:disabled:hover {\n",
              "    background-color: var(--disabled-bg-color);\n",
              "    fill: var(--disabled-fill-color);\n",
              "    box-shadow: none;\n",
              "  }\n",
              "\n",
              "  .colab-df-spinner {\n",
              "    border: 2px solid var(--fill-color);\n",
              "    border-color: transparent;\n",
              "    border-bottom-color: var(--fill-color);\n",
              "    animation:\n",
              "      spin 1s steps(1) infinite;\n",
              "  }\n",
              "\n",
              "  @keyframes spin {\n",
              "    0% {\n",
              "      border-color: transparent;\n",
              "      border-bottom-color: var(--fill-color);\n",
              "      border-left-color: var(--fill-color);\n",
              "    }\n",
              "    20% {\n",
              "      border-color: transparent;\n",
              "      border-left-color: var(--fill-color);\n",
              "      border-top-color: var(--fill-color);\n",
              "    }\n",
              "    30% {\n",
              "      border-color: transparent;\n",
              "      border-left-color: var(--fill-color);\n",
              "      border-top-color: var(--fill-color);\n",
              "      border-right-color: var(--fill-color);\n",
              "    }\n",
              "    40% {\n",
              "      border-color: transparent;\n",
              "      border-right-color: var(--fill-color);\n",
              "      border-top-color: var(--fill-color);\n",
              "    }\n",
              "    60% {\n",
              "      border-color: transparent;\n",
              "      border-right-color: var(--fill-color);\n",
              "    }\n",
              "    80% {\n",
              "      border-color: transparent;\n",
              "      border-right-color: var(--fill-color);\n",
              "      border-bottom-color: var(--fill-color);\n",
              "    }\n",
              "    90% {\n",
              "      border-color: transparent;\n",
              "      border-bottom-color: var(--fill-color);\n",
              "    }\n",
              "  }\n",
              "</style>\n",
              "\n",
              "      <script>\n",
              "        async function quickchart(key) {\n",
              "          const quickchartButtonEl =\n",
              "            document.querySelector('#' + key + ' button');\n",
              "          quickchartButtonEl.disabled = true;  // To prevent multiple clicks.\n",
              "          quickchartButtonEl.classList.add('colab-df-spinner');\n",
              "          try {\n",
              "            const charts = await google.colab.kernel.invokeFunction(\n",
              "                'suggestCharts', [key], {});\n",
              "          } catch (error) {\n",
              "            console.error('Error during call to suggestCharts:', error);\n",
              "          }\n",
              "          quickchartButtonEl.classList.remove('colab-df-spinner');\n",
              "          quickchartButtonEl.classList.add('colab-df-quickchart-complete');\n",
              "        }\n",
              "        (() => {\n",
              "          let quickchartButtonEl =\n",
              "            document.querySelector('#df-9ec43e80-71e4-4def-b2c0-6bf0301bf3dd button');\n",
              "          quickchartButtonEl.style.display =\n",
              "            google.colab.kernel.accessAllowed ? 'block' : 'none';\n",
              "        })();\n",
              "      </script>\n",
              "    </div>\n",
              "\n",
              "    </div>\n",
              "  </div>\n"
            ],
            "application/vnd.google.colaboratory.intrinsic+json": {
              "type": "dataframe",
              "variable_name": "data"
            }
          },
          "metadata": {},
          "execution_count": 1
        }
      ]
    },
    {
      "cell_type": "code",
      "source": [
        "import torch\n",
        "from sklearn.model_selection import train_test_split\n",
        "\n",
        "X = data.iloc[:,1:].values\n",
        "y=data.iloc[:,0].values\n"
      ],
      "metadata": {
        "id": "rWYm9NlWM6hA"
      },
      "execution_count": null,
      "outputs": []
    },
    {
      "cell_type": "code",
      "source": [
        "X_train,X_test,y_train,y_test = train_test_split(X,y,test_size=0.2,random_state=143)\n"
      ],
      "metadata": {
        "id": "W8uYDs96Nk9o"
      },
      "execution_count": null,
      "outputs": []
    },
    {
      "cell_type": "code",
      "source": [
        "# scaleing\n",
        "X_train = X_train/255.0\n",
        "X_test = X_test/255.0"
      ],
      "metadata": {
        "id": "k6AputzANvis"
      },
      "execution_count": null,
      "outputs": []
    },
    {
      "cell_type": "code",
      "source": [
        "from torch.utils.data import Dataset,DataLoader\n",
        "class Custom_dataset(Dataset):\n",
        "\n",
        "  def __init__(self,feature,label):\n",
        "    self.feature = torch.tensor(feature,dtype=torch.float32)\n",
        "    self.label = torch.tensor(label,dtype=torch.long)\n",
        "\n",
        "  def __len__(self):\n",
        "    return len(self.feature)\n",
        "\n",
        "  def __getitem__(self,index):\n",
        "    return self.feature[index],self.label[index]\n",
        "\n"
      ],
      "metadata": {
        "id": "oaH-oTAwOao9"
      },
      "execution_count": null,
      "outputs": []
    },
    {
      "cell_type": "code",
      "source": [
        "train_data = Custom_dataset(X_train,y_train)\n",
        "test_data = Custom_dataset(X_test,y_test)"
      ],
      "metadata": {
        "id": "ZtUF90oNQHO9"
      },
      "execution_count": null,
      "outputs": []
    },
    {
      "cell_type": "code",
      "source": [
        "train_loader = DataLoader(train_data,batch_size=32,shuffle=True)\n",
        "test_loader = DataLoader(test_data,batch_size=32,shuffle=False)"
      ],
      "metadata": {
        "id": "nwOXJ8L-QUK2"
      },
      "execution_count": null,
      "outputs": []
    },
    {
      "cell_type": "code",
      "source": [
        "import torch.nn as nn\n",
        "class My_model(nn.Module):\n",
        "\n",
        "  def __init__(self,X_feature):\n",
        "    super().__init__()\n",
        "    self.model = nn.Sequential(\n",
        "        nn.Linear(X_feature.shape[1],128),\n",
        "        nn.BatchNorm1d(128),\n",
        "        nn.ReLU(),\n",
        "        nn.Dropout(p=0.3),\n",
        "        nn.Linear(128,64),\n",
        "        nn.BatchNorm1d(64),\n",
        "        nn.ReLU(),\n",
        "        nn.Dropout(p=0.3),\n",
        "        nn.Linear(64,10)\n",
        "    )\n",
        "  def forward(self,X_feature):\n",
        "    output=self.model(X_feature)\n",
        "    return output"
      ],
      "metadata": {
        "id": "PQFo95FwQnqB"
      },
      "execution_count": null,
      "outputs": []
    },
    {
      "cell_type": "code",
      "source": [
        "device = torch.device('cuda' if torch.cuda.is_available() else 'cpu')"
      ],
      "metadata": {
        "id": "R9WrxijbazaJ"
      },
      "execution_count": null,
      "outputs": []
    },
    {
      "cell_type": "code",
      "source": [
        "model = My_model(X_train)\n",
        "model=model.to(device)\n",
        "\n",
        "loss_func= nn.CrossEntropyLoss()\n",
        "\n",
        "epochs =100\n",
        "learing_rate = 0.01\n",
        "optimizer = torch.optim.SGD(model.parameters(),lr=learing_rate,weight_decay=1e-4)"
      ],
      "metadata": {
        "id": "2NzHLSZbZ1iR"
      },
      "execution_count": null,
      "outputs": []
    },
    {
      "cell_type": "code",
      "source": [
        "# Training\n",
        "for epoch in range(epochs):\n",
        "  total_loss=0\n",
        "  for batch_feature,batch_label in train_loader:\n",
        "    batch_feature,batch_label=batch_feature.to(device),batch_label.to(device)\n",
        "\n",
        "    y_pred = model(batch_feature)\n",
        "\n",
        "    loss = loss_func(y_pred,batch_label)\n",
        "\n",
        "    optimizer.zero_grad()\n",
        "\n",
        "    loss.backward()\n",
        "\n",
        "    optimizer.step()\n",
        "\n",
        "    total_loss+=loss.item()\n",
        "\n",
        "  avg_loss = total_loss/len(train_loader)\n",
        "\n",
        "  print(f'{epoch+1}: loss:{avg_loss}')\n",
        "\n",
        "\n"
      ],
      "metadata": {
        "colab": {
          "base_uri": "https://localhost:8080/"
        },
        "id": "htM1HJWldntE",
        "outputId": "277f0721-818e-4615-e4df-13a754392fac"
      },
      "execution_count": null,
      "outputs": [
        {
          "output_type": "stream",
          "name": "stdout",
          "text": [
            "1: loss:1.8018062584836718\n",
            "2: loss:1.350883297517266\n",
            "3: loss:1.1457622974691257\n",
            "4: loss:1.0051641296332992\n",
            "5: loss:0.9115705842703161\n",
            "6: loss:0.8552136244908185\n",
            "7: loss:0.79686816981141\n",
            "8: loss:0.7271729984753569\n",
            "9: loss:0.6955980561988454\n",
            "10: loss:0.6767529509436916\n",
            "11: loss:0.6505129509408709\n",
            "12: loss:0.6272890870000275\n",
            "13: loss:0.5981384456997186\n",
            "14: loss:0.5657694234814442\n",
            "15: loss:0.5529082692425016\n",
            "16: loss:0.5374276763956312\n",
            "17: loss:0.5155599184439216\n",
            "18: loss:0.5226674033722407\n",
            "19: loss:0.502825184187419\n",
            "20: loss:0.4875607671032489\n",
            "21: loss:0.48098917536332575\n",
            "22: loss:0.4447025715465277\n",
            "23: loss:0.45299238680114207\n",
            "24: loss:0.4179533172241399\n",
            "25: loss:0.44696611942539755\n",
            "26: loss:0.4117198112145276\n",
            "27: loss:0.4088040670038949\n",
            "28: loss:0.3949869075711344\n",
            "29: loss:0.3912993610744745\n",
            "30: loss:0.3829187874642896\n",
            "31: loss:0.3621803415073475\n",
            "32: loss:0.37001018561947513\n",
            "33: loss:0.35178179115476743\n",
            "34: loss:0.34850724943926636\n",
            "35: loss:0.33862357408228055\n",
            "36: loss:0.3457156086051968\n",
            "37: loss:0.32891742276473784\n",
            "38: loss:0.31950141342592914\n",
            "39: loss:0.3148514880260951\n",
            "40: loss:0.3021908067691494\n",
            "41: loss:0.2892007357637647\n",
            "42: loss:0.29709123421302985\n",
            "43: loss:0.28138630438438605\n",
            "44: loss:0.27598609198147145\n",
            "45: loss:0.28885401722411036\n",
            "46: loss:0.2723374629104641\n",
            "47: loss:0.2611675145970264\n",
            "48: loss:0.26068268443497133\n",
            "49: loss:0.25409612164530954\n",
            "50: loss:0.22953742774019778\n",
            "51: loss:0.23316154985780446\n",
            "52: loss:0.23297106054886965\n",
            "53: loss:0.23269862996440538\n",
            "54: loss:0.23044680636113798\n",
            "55: loss:0.23896858694267945\n",
            "56: loss:0.22027362694203015\n",
            "57: loss:0.2204595654153488\n",
            "58: loss:0.21934592933721944\n",
            "59: loss:0.20492652604277706\n",
            "60: loss:0.19909041521834656\n",
            "61: loss:0.2031833496941647\n",
            "62: loss:0.1983450014196651\n",
            "63: loss:0.1998365433283255\n",
            "64: loss:0.2103703123792796\n",
            "65: loss:0.1972764209962227\n",
            "66: loss:0.18102038709420554\n",
            "67: loss:0.15784416575981697\n",
            "68: loss:0.17300033244028898\n",
            "69: loss:0.1831040184577586\n",
            "70: loss:0.18998928898027245\n",
            "71: loss:0.1695816546783481\n",
            "72: loss:0.17621307851563037\n",
            "73: loss:0.17254646867513657\n",
            "74: loss:0.16084774722620634\n",
            "75: loss:0.1405784276799417\n",
            "76: loss:0.16320633812164756\n",
            "77: loss:0.1632571844252902\n",
            "78: loss:0.16521773057084688\n",
            "79: loss:0.14350266940891743\n",
            "80: loss:0.1585944125979719\n",
            "81: loss:0.146950041744071\n",
            "82: loss:0.17409696188611043\n",
            "83: loss:0.15826501991127578\n",
            "84: loss:0.14934707495947958\n",
            "85: loss:0.12746513503747928\n",
            "86: loss:0.12090459193142367\n",
            "87: loss:0.1208867455347323\n",
            "88: loss:0.12253115795762606\n",
            "89: loss:0.12304510265378885\n",
            "90: loss:0.1305817833668749\n",
            "91: loss:0.12768703546952193\n",
            "92: loss:0.13298848801305596\n",
            "93: loss:0.1277305947905275\n",
            "94: loss:0.12008798468700597\n",
            "95: loss:0.11288169440878949\n",
            "96: loss:0.11101920417391918\n",
            "97: loss:0.11060245198683\n",
            "98: loss:0.14494851357500319\n",
            "99: loss:0.12608611541734616\n",
            "100: loss:0.10966266014836204\n"
          ]
        }
      ]
    },
    {
      "cell_type": "code",
      "source": [
        "model.eval()"
      ],
      "metadata": {
        "colab": {
          "base_uri": "https://localhost:8080/"
        },
        "id": "WBNJlxJDhJ7S",
        "outputId": "24bb735b-aec8-4675-e99a-6e96b6c6e918"
      },
      "execution_count": null,
      "outputs": [
        {
          "output_type": "execute_result",
          "data": {
            "text/plain": [
              "My_model(\n",
              "  (model): Sequential(\n",
              "    (0): Linear(in_features=784, out_features=128, bias=True)\n",
              "    (1): BatchNorm1d(128, eps=1e-05, momentum=0.1, affine=True, track_running_stats=True)\n",
              "    (2): ReLU()\n",
              "    (3): Dropout(p=0.3, inplace=False)\n",
              "    (4): Linear(in_features=128, out_features=64, bias=True)\n",
              "    (5): BatchNorm1d(64, eps=1e-05, momentum=0.1, affine=True, track_running_stats=True)\n",
              "    (6): ReLU()\n",
              "    (7): Dropout(p=0.3, inplace=False)\n",
              "    (8): Linear(in_features=64, out_features=10, bias=True)\n",
              "  )\n",
              ")"
            ]
          },
          "metadata": {},
          "execution_count": 12
        }
      ]
    },
    {
      "cell_type": "code",
      "source": [
        "# evaluation code\n",
        "\n",
        "total = 0\n",
        "correct = 0\n",
        "\n",
        "with torch.no_grad():\n",
        "  for batch_features,batch_labels in test_loader:\n",
        "    batch_feature,batch_label=batch_feature.to(device),batch_label.to(device)\n",
        "    outputs=model(batch_features)\n",
        "\n",
        "    predicted_labels=torch.max(outputs,1)[1]\n",
        "\n",
        "    total=total+batch_labels.shape[0]\n",
        "\n",
        "    correct+=(predicted_labels==batch_labels).sum().item()\n",
        "\n",
        "print(correct/total)\n"
      ],
      "metadata": {
        "colab": {
          "base_uri": "https://localhost:8080/"
        },
        "id": "6g3I418bkdcL",
        "outputId": "4603e9b4-e03c-43c7-f44c-9f1f2d2176d4"
      },
      "execution_count": null,
      "outputs": [
        {
          "output_type": "stream",
          "name": "stdout",
          "text": [
            "0.8088495575221238\n"
          ]
        }
      ]
    },
    {
      "cell_type": "code",
      "source": [
        "# evaluation code\n",
        "\n",
        "total = 0\n",
        "correct = 0\n",
        "\n",
        "with torch.no_grad():\n",
        "  for batch_features,batch_labels in train_loader:\n",
        "    batch_feature,batch_label=batch_feature.to(device),batch_label.to(device)\n",
        "    outputs=model(batch_features)\n",
        "\n",
        "    predicted_labels=torch.max(outputs,1)[1]\n",
        "\n",
        "    total=total+batch_labels.shape[0]\n",
        "\n",
        "    correct+=(predicted_labels==batch_labels).sum().item()\n",
        "\n",
        "print(correct/total)\n"
      ],
      "metadata": {
        "colab": {
          "base_uri": "https://localhost:8080/"
        },
        "id": "lqjvSP9ilhkE",
        "outputId": "00927c91-fd7b-451b-91bc-9f617bbbd1f7"
      },
      "execution_count": null,
      "outputs": [
        {
          "output_type": "stream",
          "name": "stdout",
          "text": [
            "0.9738938053097345\n"
          ]
        }
      ]
    },
    {
      "cell_type": "markdown",
      "source": [
        "From the above we can observe that we can reduce the gap b/w the train and test by drop and regularization and bn."
      ],
      "metadata": {
        "id": "AZeLITnmlpez"
      }
    },
    {
      "cell_type": "markdown",
      "source": [
        "Hyper parameter tuning using optuna\n",
        "Bayes's search\n",
        "\n",
        "Plan of action\n",
        "1) Number of hidden layers\n",
        "2) Number of neurons per layer\n",
        "3) Number of epochs\n",
        "4) Optimizers\n",
        "5) Learning Rate\n",
        "6) Batch Size\n",
        "7) DropOut rate\n",
        "8) Weight Delay(Lamdha value)"
      ],
      "metadata": {
        "id": "DKyKDjOTjF79"
      }
    },
    {
      "cell_type": "markdown",
      "source": [
        "Objective function\n",
        "\n",
        "-> Search space\n",
        "-> model initialization\n",
        "-> parameter initialization -> like lr,lossfunc\n",
        "-> training loop\n",
        "-> Evalution"
      ],
      "metadata": {
        "id": "h_g49XSykTLc"
      }
    },
    {
      "cell_type": "markdown",
      "source": [
        "Study Object\n",
        "and need to tell the number of trials"
      ],
      "metadata": {
        "id": "UMWiyhNtkyCa"
      }
    },
    {
      "cell_type": "code",
      "source": [
        "!pip3 install optuna"
      ],
      "metadata": {
        "colab": {
          "base_uri": "https://localhost:8080/"
        },
        "id": "SgloYFrrl7_N",
        "outputId": "6e33ed28-ec74-483f-d015-909d847aa8e6"
      },
      "execution_count": null,
      "outputs": [
        {
          "output_type": "stream",
          "name": "stdout",
          "text": [
            "Requirement already satisfied: optuna in /usr/local/lib/python3.11/dist-packages (4.4.0)\n",
            "Requirement already satisfied: alembic>=1.5.0 in /usr/local/lib/python3.11/dist-packages (from optuna) (1.16.2)\n",
            "Requirement already satisfied: colorlog in /usr/local/lib/python3.11/dist-packages (from optuna) (6.9.0)\n",
            "Requirement already satisfied: numpy in /usr/local/lib/python3.11/dist-packages (from optuna) (2.0.2)\n",
            "Requirement already satisfied: packaging>=20.0 in /usr/local/lib/python3.11/dist-packages (from optuna) (24.2)\n",
            "Requirement already satisfied: sqlalchemy>=1.4.2 in /usr/local/lib/python3.11/dist-packages (from optuna) (2.0.41)\n",
            "Requirement already satisfied: tqdm in /usr/local/lib/python3.11/dist-packages (from optuna) (4.67.1)\n",
            "Requirement already satisfied: PyYAML in /usr/local/lib/python3.11/dist-packages (from optuna) (6.0.2)\n",
            "Requirement already satisfied: Mako in /usr/lib/python3/dist-packages (from alembic>=1.5.0->optuna) (1.1.3)\n",
            "Requirement already satisfied: typing-extensions>=4.12 in /usr/local/lib/python3.11/dist-packages (from alembic>=1.5.0->optuna) (4.14.0)\n",
            "Requirement already satisfied: greenlet>=1 in /usr/local/lib/python3.11/dist-packages (from sqlalchemy>=1.4.2->optuna) (3.2.3)\n"
          ]
        }
      ]
    },
    {
      "cell_type": "code",
      "source": [
        "import torch.nn as nn\n",
        "class My_model(nn.Module):\n",
        "\n",
        "  def __init__(self,input_dim,output_dim,num_hidden_layers,neurons_per_layer):\n",
        "    super().__init__()\n",
        "\n",
        "    layers = []\n",
        "\n",
        "    for i in range(num_hidden_layers):\n",
        "\n",
        "      layers.append(nn.Linear(input_dim,neurons_per_layer))\n",
        "      layers.append(nn.BatchNorm1d(neurons_per_layer))\n",
        "      layers.append(nn.ReLU())\n",
        "      layers.append(nn.Dropout(0.3))\n",
        "      input_dim=neurons_per_layer\n",
        "    layers.append(nn.Linear(neurons_per_layer,output_dim))\n",
        "\n",
        "    self.model = nn.Sequential(*layers) # Here the Seqential will not directly accept the list so we unpack the list by *\n",
        "\n",
        "  def forward(self,X_feature):\n",
        "    output=self.model(X_feature)\n",
        "    return output"
      ],
      "metadata": {
        "id": "-R87VXRImvw-"
      },
      "execution_count": null,
      "outputs": []
    },
    {
      "cell_type": "code",
      "source": [
        " # Objective function\n",
        "\n",
        "def Objective_function(trial):\n",
        "\n",
        "  number_of_layers = trial.suggest_int('number_of_layers',1,5)\n",
        "  neurons_per_layer = trial.suggest_int('neuron_per_layer',8,128,step=8)\n",
        "\n",
        "  input_dim=784\n",
        "  output_dim =10\n",
        "\n",
        "  model = My_model(input_dim,output_dim,number_of_layers,neurons_per_layer)\n",
        "  model.to(device)\n",
        "\n",
        "  learning_rate=0.1\n",
        "  epochs=100\n",
        "\n",
        "  loss_func= nn.CrossEntropyLoss()\n",
        "  optimizer = torch.optim.SGD(model.parameters(),lr=learing_rate,weight_decay=1e-4)\n",
        "\n",
        "  for epoch in range(epochs):\n",
        "    total_loss=0\n",
        "    for batch_feature,batch_label in train_loader:\n",
        "      batch_feature,batch_label=batch_feature.to(device),batch_label.to(device)\n",
        "\n",
        "      y_pred = model(batch_feature)\n",
        "\n",
        "      loss = loss_func(y_pred,batch_label)\n",
        "\n",
        "      optimizer.zero_grad()\n",
        "\n",
        "      loss.backward()\n",
        "\n",
        "      optimizer.step()\n",
        "\n",
        "      total_loss+=loss.item()\n",
        "\n",
        "    avg_loss = total_loss/len(train_loader)\n",
        "\n",
        "  # Evaluation\n",
        "  model.eval()\n",
        "  total = 0\n",
        "  correct = 0\n",
        "\n",
        "  with torch.no_grad():\n",
        "    for batch_features,batch_labels in test_loader:\n",
        "      batch_feature,batch_label=batch_feature.to(device),batch_label.to(device)\n",
        "      outputs=model(batch_features)\n",
        "\n",
        "      predicted_labels=torch.max(outputs,1)[1]\n",
        "\n",
        "      total=total+batch_labels.shape[0]\n",
        "\n",
        "      correct+=(predicted_labels==batch_labels).sum().item()\n",
        "    accuracy = correct/total\n",
        "  return accuracy"
      ],
      "metadata": {
        "id": "_hyyvSQUk45v"
      },
      "execution_count": null,
      "outputs": []
    },
    {
      "cell_type": "code",
      "source": [
        "import optuna\n",
        "study = optuna.create_study(direction='maximize')\n",
        "study.optimize(Objective_function,n_trials=10)"
      ],
      "metadata": {
        "colab": {
          "base_uri": "https://localhost:8080/"
        },
        "id": "XKOOgPVms65h",
        "outputId": "0fef6948-cf29-4f81-8a96-7200bbadf456"
      },
      "execution_count": null,
      "outputs": [
        {
          "output_type": "stream",
          "name": "stderr",
          "text": [
            "[I 2025-07-07 16:27:52,305] A new study created in memory with name: no-name-926b88ca-b742-49e0-8f81-cad5159be4cd\n",
            "[I 2025-07-07 16:28:17,167] Trial 0 finished with value: 0.8336283185840708 and parameters: {'number_of_layers': 3, 'neuron_per_layer': 112}. Best is trial 0 with value: 0.8336283185840708.\n",
            "[I 2025-07-07 16:28:34,174] Trial 1 finished with value: 0.7964601769911505 and parameters: {'number_of_layers': 1, 'neuron_per_layer': 128}. Best is trial 0 with value: 0.8336283185840708.\n",
            "[I 2025-07-07 16:28:58,695] Trial 2 finished with value: 0.8176991150442477 and parameters: {'number_of_layers': 4, 'neuron_per_layer': 48}. Best is trial 0 with value: 0.8336283185840708.\n",
            "[I 2025-07-07 16:29:21,047] Trial 3 finished with value: 0.7433628318584071 and parameters: {'number_of_layers': 4, 'neuron_per_layer': 16}. Best is trial 0 with value: 0.8336283185840708.\n",
            "[I 2025-07-07 16:29:46,398] Trial 4 finished with value: 0.8389380530973451 and parameters: {'number_of_layers': 3, 'neuron_per_layer': 120}. Best is trial 4 with value: 0.8389380530973451.\n",
            "[I 2025-07-07 16:29:59,798] Trial 5 finished with value: 0.8070796460176991 and parameters: {'number_of_layers': 1, 'neuron_per_layer': 64}. Best is trial 4 with value: 0.8389380530973451.\n",
            "[I 2025-07-07 16:30:18,991] Trial 6 finished with value: 0.8230088495575221 and parameters: {'number_of_layers': 2, 'neuron_per_layer': 40}. Best is trial 4 with value: 0.8389380530973451.\n",
            "[I 2025-07-07 16:30:45,704] Trial 7 finished with value: 0.6867256637168142 and parameters: {'number_of_layers': 5, 'neuron_per_layer': 24}. Best is trial 4 with value: 0.8389380530973451.\n",
            "[I 2025-07-07 16:31:05,329] Trial 8 finished with value: 0.8230088495575221 and parameters: {'number_of_layers': 3, 'neuron_per_layer': 48}. Best is trial 4 with value: 0.8389380530973451.\n",
            "[I 2025-07-07 16:31:24,480] Trial 9 finished with value: 0.7699115044247787 and parameters: {'number_of_layers': 2, 'neuron_per_layer': 56}. Best is trial 4 with value: 0.8389380530973451.\n"
          ]
        }
      ]
    },
    {
      "cell_type": "code",
      "source": [
        "study.best_value"
      ],
      "metadata": {
        "colab": {
          "base_uri": "https://localhost:8080/"
        },
        "id": "mLJz2xA8uhD2",
        "outputId": "c5e2959f-370b-41b8-a934-cd429cca0a28"
      },
      "execution_count": null,
      "outputs": [
        {
          "output_type": "execute_result",
          "data": {
            "text/plain": [
              "0.8389380530973451"
            ]
          },
          "metadata": {},
          "execution_count": 35
        }
      ]
    },
    {
      "cell_type": "code",
      "source": [
        "study.best_params"
      ],
      "metadata": {
        "colab": {
          "base_uri": "https://localhost:8080/"
        },
        "id": "IB2dHV0vuqZ_",
        "outputId": "7e47a381-ee18-4baf-d9db-0053a620e741"
      },
      "execution_count": null,
      "outputs": [
        {
          "output_type": "execute_result",
          "data": {
            "text/plain": [
              "{'number_of_layers': 3, 'neuron_per_layer': 120}"
            ]
          },
          "metadata": {},
          "execution_count": 36
        }
      ]
    },
    {
      "cell_type": "code",
      "source": [],
      "metadata": {
        "id": "AI3BJx0ouw0z"
      },
      "execution_count": null,
      "outputs": []
    }
  ]
}