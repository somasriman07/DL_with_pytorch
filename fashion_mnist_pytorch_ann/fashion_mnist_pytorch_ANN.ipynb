{
  "nbformat": 4,
  "nbformat_minor": 0,
  "metadata": {
    "colab": {
      "provenance": []
    },
    "kernelspec": {
      "name": "python3",
      "display_name": "Python 3"
    },
    "language_info": {
      "name": "python"
    }
  },
  "cells": [
    {
      "cell_type": "code",
      "execution_count": null,
      "metadata": {
        "id": "Or7KwgecgLEv"
      },
      "outputs": [],
      "source": [
        "import torch\n",
        "import pandas as pd\n",
        "import torch.nn as nn\n",
        "import matplotlib.pyplot as plt\n",
        "# Building an ANN"
      ]
    },
    {
      "cell_type": "code",
      "source": [
        "dataset_=pd.read_csv(\"/content/fmnist_small.csv\")\n"
      ],
      "metadata": {
        "id": "yKFtRSFOguzu"
      },
      "execution_count": null,
      "outputs": []
    },
    {
      "cell_type": "code",
      "source": [
        "torch.manual_seed(143)"
      ],
      "metadata": {
        "colab": {
          "base_uri": "https://localhost:8080/"
        },
        "id": "ZBnkQ9qih8yu",
        "outputId": "9000495f-122f-4671-c322-1f74677248c1"
      },
      "execution_count": null,
      "outputs": [
        {
          "output_type": "execute_result",
          "data": {
            "text/plain": [
              "<torch._C.Generator at 0x7fd0a41bdfd0>"
            ]
          },
          "metadata": {},
          "execution_count": 3
        }
      ]
    },
    {
      "cell_type": "code",
      "source": [
        "dataset_.head()"
      ],
      "metadata": {
        "colab": {
          "base_uri": "https://localhost:8080/",
          "height": 255
        },
        "id": "qjGCRehDiCAB",
        "outputId": "a1acbe4e-21cd-4f80-c62b-b518ee49ef6d"
      },
      "execution_count": null,
      "outputs": [
        {
          "output_type": "execute_result",
          "data": {
            "text/plain": [
              "   label  pixel1  pixel2  pixel3  pixel4  pixel5  pixel6  pixel7  pixel8  \\\n",
              "0      9       0       0       0       0       0       0       0       0   \n",
              "1      7       0       0       0       0       0       0       0       0   \n",
              "2      0       0       0       0       0       0       1       0       0   \n",
              "3      8       0       0       0       0       0       0       0       0   \n",
              "4      8       0       0       0       0       0       0       0       0   \n",
              "\n",
              "   pixel9  ...  pixel775  pixel776  pixel777  pixel778  pixel779  pixel780  \\\n",
              "0       0  ...         0         7         0        50       205       196   \n",
              "1       0  ...         0         0         0         0         0         0   \n",
              "2       0  ...       142       142       142        21         0         3   \n",
              "3       0  ...         0         0         0         0         0         0   \n",
              "4       0  ...       213       203       174       151       188        10   \n",
              "\n",
              "   pixel781  pixel782  pixel783  pixel784  \n",
              "0       213       165         0         0  \n",
              "1         0         0         0         0  \n",
              "2         0         0         0         0  \n",
              "3         0         0         0         0  \n",
              "4         0         0         0         0  \n",
              "\n",
              "[5 rows x 785 columns]"
            ],
            "text/html": [
              "\n",
              "  <div id=\"df-c0ad5518-58d4-48d1-880e-165b130e7274\" class=\"colab-df-container\">\n",
              "    <div>\n",
              "<style scoped>\n",
              "    .dataframe tbody tr th:only-of-type {\n",
              "        vertical-align: middle;\n",
              "    }\n",
              "\n",
              "    .dataframe tbody tr th {\n",
              "        vertical-align: top;\n",
              "    }\n",
              "\n",
              "    .dataframe thead th {\n",
              "        text-align: right;\n",
              "    }\n",
              "</style>\n",
              "<table border=\"1\" class=\"dataframe\">\n",
              "  <thead>\n",
              "    <tr style=\"text-align: right;\">\n",
              "      <th></th>\n",
              "      <th>label</th>\n",
              "      <th>pixel1</th>\n",
              "      <th>pixel2</th>\n",
              "      <th>pixel3</th>\n",
              "      <th>pixel4</th>\n",
              "      <th>pixel5</th>\n",
              "      <th>pixel6</th>\n",
              "      <th>pixel7</th>\n",
              "      <th>pixel8</th>\n",
              "      <th>pixel9</th>\n",
              "      <th>...</th>\n",
              "      <th>pixel775</th>\n",
              "      <th>pixel776</th>\n",
              "      <th>pixel777</th>\n",
              "      <th>pixel778</th>\n",
              "      <th>pixel779</th>\n",
              "      <th>pixel780</th>\n",
              "      <th>pixel781</th>\n",
              "      <th>pixel782</th>\n",
              "      <th>pixel783</th>\n",
              "      <th>pixel784</th>\n",
              "    </tr>\n",
              "  </thead>\n",
              "  <tbody>\n",
              "    <tr>\n",
              "      <th>0</th>\n",
              "      <td>9</td>\n",
              "      <td>0</td>\n",
              "      <td>0</td>\n",
              "      <td>0</td>\n",
              "      <td>0</td>\n",
              "      <td>0</td>\n",
              "      <td>0</td>\n",
              "      <td>0</td>\n",
              "      <td>0</td>\n",
              "      <td>0</td>\n",
              "      <td>...</td>\n",
              "      <td>0</td>\n",
              "      <td>7</td>\n",
              "      <td>0</td>\n",
              "      <td>50</td>\n",
              "      <td>205</td>\n",
              "      <td>196</td>\n",
              "      <td>213</td>\n",
              "      <td>165</td>\n",
              "      <td>0</td>\n",
              "      <td>0</td>\n",
              "    </tr>\n",
              "    <tr>\n",
              "      <th>1</th>\n",
              "      <td>7</td>\n",
              "      <td>0</td>\n",
              "      <td>0</td>\n",
              "      <td>0</td>\n",
              "      <td>0</td>\n",
              "      <td>0</td>\n",
              "      <td>0</td>\n",
              "      <td>0</td>\n",
              "      <td>0</td>\n",
              "      <td>0</td>\n",
              "      <td>...</td>\n",
              "      <td>0</td>\n",
              "      <td>0</td>\n",
              "      <td>0</td>\n",
              "      <td>0</td>\n",
              "      <td>0</td>\n",
              "      <td>0</td>\n",
              "      <td>0</td>\n",
              "      <td>0</td>\n",
              "      <td>0</td>\n",
              "      <td>0</td>\n",
              "    </tr>\n",
              "    <tr>\n",
              "      <th>2</th>\n",
              "      <td>0</td>\n",
              "      <td>0</td>\n",
              "      <td>0</td>\n",
              "      <td>0</td>\n",
              "      <td>0</td>\n",
              "      <td>0</td>\n",
              "      <td>1</td>\n",
              "      <td>0</td>\n",
              "      <td>0</td>\n",
              "      <td>0</td>\n",
              "      <td>...</td>\n",
              "      <td>142</td>\n",
              "      <td>142</td>\n",
              "      <td>142</td>\n",
              "      <td>21</td>\n",
              "      <td>0</td>\n",
              "      <td>3</td>\n",
              "      <td>0</td>\n",
              "      <td>0</td>\n",
              "      <td>0</td>\n",
              "      <td>0</td>\n",
              "    </tr>\n",
              "    <tr>\n",
              "      <th>3</th>\n",
              "      <td>8</td>\n",
              "      <td>0</td>\n",
              "      <td>0</td>\n",
              "      <td>0</td>\n",
              "      <td>0</td>\n",
              "      <td>0</td>\n",
              "      <td>0</td>\n",
              "      <td>0</td>\n",
              "      <td>0</td>\n",
              "      <td>0</td>\n",
              "      <td>...</td>\n",
              "      <td>0</td>\n",
              "      <td>0</td>\n",
              "      <td>0</td>\n",
              "      <td>0</td>\n",
              "      <td>0</td>\n",
              "      <td>0</td>\n",
              "      <td>0</td>\n",
              "      <td>0</td>\n",
              "      <td>0</td>\n",
              "      <td>0</td>\n",
              "    </tr>\n",
              "    <tr>\n",
              "      <th>4</th>\n",
              "      <td>8</td>\n",
              "      <td>0</td>\n",
              "      <td>0</td>\n",
              "      <td>0</td>\n",
              "      <td>0</td>\n",
              "      <td>0</td>\n",
              "      <td>0</td>\n",
              "      <td>0</td>\n",
              "      <td>0</td>\n",
              "      <td>0</td>\n",
              "      <td>...</td>\n",
              "      <td>213</td>\n",
              "      <td>203</td>\n",
              "      <td>174</td>\n",
              "      <td>151</td>\n",
              "      <td>188</td>\n",
              "      <td>10</td>\n",
              "      <td>0</td>\n",
              "      <td>0</td>\n",
              "      <td>0</td>\n",
              "      <td>0</td>\n",
              "    </tr>\n",
              "  </tbody>\n",
              "</table>\n",
              "<p>5 rows × 785 columns</p>\n",
              "</div>\n",
              "    <div class=\"colab-df-buttons\">\n",
              "\n",
              "  <div class=\"colab-df-container\">\n",
              "    <button class=\"colab-df-convert\" onclick=\"convertToInteractive('df-c0ad5518-58d4-48d1-880e-165b130e7274')\"\n",
              "            title=\"Convert this dataframe to an interactive table.\"\n",
              "            style=\"display:none;\">\n",
              "\n",
              "  <svg xmlns=\"http://www.w3.org/2000/svg\" height=\"24px\" viewBox=\"0 -960 960 960\">\n",
              "    <path d=\"M120-120v-720h720v720H120Zm60-500h600v-160H180v160Zm220 220h160v-160H400v160Zm0 220h160v-160H400v160ZM180-400h160v-160H180v160Zm440 0h160v-160H620v160ZM180-180h160v-160H180v160Zm440 0h160v-160H620v160Z\"/>\n",
              "  </svg>\n",
              "    </button>\n",
              "\n",
              "  <style>\n",
              "    .colab-df-container {\n",
              "      display:flex;\n",
              "      gap: 12px;\n",
              "    }\n",
              "\n",
              "    .colab-df-convert {\n",
              "      background-color: #E8F0FE;\n",
              "      border: none;\n",
              "      border-radius: 50%;\n",
              "      cursor: pointer;\n",
              "      display: none;\n",
              "      fill: #1967D2;\n",
              "      height: 32px;\n",
              "      padding: 0 0 0 0;\n",
              "      width: 32px;\n",
              "    }\n",
              "\n",
              "    .colab-df-convert:hover {\n",
              "      background-color: #E2EBFA;\n",
              "      box-shadow: 0px 1px 2px rgba(60, 64, 67, 0.3), 0px 1px 3px 1px rgba(60, 64, 67, 0.15);\n",
              "      fill: #174EA6;\n",
              "    }\n",
              "\n",
              "    .colab-df-buttons div {\n",
              "      margin-bottom: 4px;\n",
              "    }\n",
              "\n",
              "    [theme=dark] .colab-df-convert {\n",
              "      background-color: #3B4455;\n",
              "      fill: #D2E3FC;\n",
              "    }\n",
              "\n",
              "    [theme=dark] .colab-df-convert:hover {\n",
              "      background-color: #434B5C;\n",
              "      box-shadow: 0px 1px 3px 1px rgba(0, 0, 0, 0.15);\n",
              "      filter: drop-shadow(0px 1px 2px rgba(0, 0, 0, 0.3));\n",
              "      fill: #FFFFFF;\n",
              "    }\n",
              "  </style>\n",
              "\n",
              "    <script>\n",
              "      const buttonEl =\n",
              "        document.querySelector('#df-c0ad5518-58d4-48d1-880e-165b130e7274 button.colab-df-convert');\n",
              "      buttonEl.style.display =\n",
              "        google.colab.kernel.accessAllowed ? 'block' : 'none';\n",
              "\n",
              "      async function convertToInteractive(key) {\n",
              "        const element = document.querySelector('#df-c0ad5518-58d4-48d1-880e-165b130e7274');\n",
              "        const dataTable =\n",
              "          await google.colab.kernel.invokeFunction('convertToInteractive',\n",
              "                                                    [key], {});\n",
              "        if (!dataTable) return;\n",
              "\n",
              "        const docLinkHtml = 'Like what you see? Visit the ' +\n",
              "          '<a target=\"_blank\" href=https://colab.research.google.com/notebooks/data_table.ipynb>data table notebook</a>'\n",
              "          + ' to learn more about interactive tables.';\n",
              "        element.innerHTML = '';\n",
              "        dataTable['output_type'] = 'display_data';\n",
              "        await google.colab.output.renderOutput(dataTable, element);\n",
              "        const docLink = document.createElement('div');\n",
              "        docLink.innerHTML = docLinkHtml;\n",
              "        element.appendChild(docLink);\n",
              "      }\n",
              "    </script>\n",
              "  </div>\n",
              "\n",
              "\n",
              "    <div id=\"df-46687cbb-5609-40ed-8c46-6739b942b935\">\n",
              "      <button class=\"colab-df-quickchart\" onclick=\"quickchart('df-46687cbb-5609-40ed-8c46-6739b942b935')\"\n",
              "                title=\"Suggest charts\"\n",
              "                style=\"display:none;\">\n",
              "\n",
              "<svg xmlns=\"http://www.w3.org/2000/svg\" height=\"24px\"viewBox=\"0 0 24 24\"\n",
              "     width=\"24px\">\n",
              "    <g>\n",
              "        <path d=\"M19 3H5c-1.1 0-2 .9-2 2v14c0 1.1.9 2 2 2h14c1.1 0 2-.9 2-2V5c0-1.1-.9-2-2-2zM9 17H7v-7h2v7zm4 0h-2V7h2v10zm4 0h-2v-4h2v4z\"/>\n",
              "    </g>\n",
              "</svg>\n",
              "      </button>\n",
              "\n",
              "<style>\n",
              "  .colab-df-quickchart {\n",
              "      --bg-color: #E8F0FE;\n",
              "      --fill-color: #1967D2;\n",
              "      --hover-bg-color: #E2EBFA;\n",
              "      --hover-fill-color: #174EA6;\n",
              "      --disabled-fill-color: #AAA;\n",
              "      --disabled-bg-color: #DDD;\n",
              "  }\n",
              "\n",
              "  [theme=dark] .colab-df-quickchart {\n",
              "      --bg-color: #3B4455;\n",
              "      --fill-color: #D2E3FC;\n",
              "      --hover-bg-color: #434B5C;\n",
              "      --hover-fill-color: #FFFFFF;\n",
              "      --disabled-bg-color: #3B4455;\n",
              "      --disabled-fill-color: #666;\n",
              "  }\n",
              "\n",
              "  .colab-df-quickchart {\n",
              "    background-color: var(--bg-color);\n",
              "    border: none;\n",
              "    border-radius: 50%;\n",
              "    cursor: pointer;\n",
              "    display: none;\n",
              "    fill: var(--fill-color);\n",
              "    height: 32px;\n",
              "    padding: 0;\n",
              "    width: 32px;\n",
              "  }\n",
              "\n",
              "  .colab-df-quickchart:hover {\n",
              "    background-color: var(--hover-bg-color);\n",
              "    box-shadow: 0 1px 2px rgba(60, 64, 67, 0.3), 0 1px 3px 1px rgba(60, 64, 67, 0.15);\n",
              "    fill: var(--button-hover-fill-color);\n",
              "  }\n",
              "\n",
              "  .colab-df-quickchart-complete:disabled,\n",
              "  .colab-df-quickchart-complete:disabled:hover {\n",
              "    background-color: var(--disabled-bg-color);\n",
              "    fill: var(--disabled-fill-color);\n",
              "    box-shadow: none;\n",
              "  }\n",
              "\n",
              "  .colab-df-spinner {\n",
              "    border: 2px solid var(--fill-color);\n",
              "    border-color: transparent;\n",
              "    border-bottom-color: var(--fill-color);\n",
              "    animation:\n",
              "      spin 1s steps(1) infinite;\n",
              "  }\n",
              "\n",
              "  @keyframes spin {\n",
              "    0% {\n",
              "      border-color: transparent;\n",
              "      border-bottom-color: var(--fill-color);\n",
              "      border-left-color: var(--fill-color);\n",
              "    }\n",
              "    20% {\n",
              "      border-color: transparent;\n",
              "      border-left-color: var(--fill-color);\n",
              "      border-top-color: var(--fill-color);\n",
              "    }\n",
              "    30% {\n",
              "      border-color: transparent;\n",
              "      border-left-color: var(--fill-color);\n",
              "      border-top-color: var(--fill-color);\n",
              "      border-right-color: var(--fill-color);\n",
              "    }\n",
              "    40% {\n",
              "      border-color: transparent;\n",
              "      border-right-color: var(--fill-color);\n",
              "      border-top-color: var(--fill-color);\n",
              "    }\n",
              "    60% {\n",
              "      border-color: transparent;\n",
              "      border-right-color: var(--fill-color);\n",
              "    }\n",
              "    80% {\n",
              "      border-color: transparent;\n",
              "      border-right-color: var(--fill-color);\n",
              "      border-bottom-color: var(--fill-color);\n",
              "    }\n",
              "    90% {\n",
              "      border-color: transparent;\n",
              "      border-bottom-color: var(--fill-color);\n",
              "    }\n",
              "  }\n",
              "</style>\n",
              "\n",
              "      <script>\n",
              "        async function quickchart(key) {\n",
              "          const quickchartButtonEl =\n",
              "            document.querySelector('#' + key + ' button');\n",
              "          quickchartButtonEl.disabled = true;  // To prevent multiple clicks.\n",
              "          quickchartButtonEl.classList.add('colab-df-spinner');\n",
              "          try {\n",
              "            const charts = await google.colab.kernel.invokeFunction(\n",
              "                'suggestCharts', [key], {});\n",
              "          } catch (error) {\n",
              "            console.error('Error during call to suggestCharts:', error);\n",
              "          }\n",
              "          quickchartButtonEl.classList.remove('colab-df-spinner');\n",
              "          quickchartButtonEl.classList.add('colab-df-quickchart-complete');\n",
              "        }\n",
              "        (() => {\n",
              "          let quickchartButtonEl =\n",
              "            document.querySelector('#df-46687cbb-5609-40ed-8c46-6739b942b935 button');\n",
              "          quickchartButtonEl.style.display =\n",
              "            google.colab.kernel.accessAllowed ? 'block' : 'none';\n",
              "        })();\n",
              "      </script>\n",
              "    </div>\n",
              "\n",
              "    </div>\n",
              "  </div>\n"
            ],
            "application/vnd.google.colaboratory.intrinsic+json": {
              "type": "dataframe",
              "variable_name": "dataset_"
            }
          },
          "metadata": {},
          "execution_count": 4
        }
      ]
    },
    {
      "cell_type": "code",
      "source": [
        "from sklearn.model_selection import train_test_split\n",
        "\n",
        "X=dataset_.iloc[:,1:].values\n",
        "y=dataset_.iloc[:,0].values\n",
        "\n",
        "X_train,X_test,y_train,y_test = train_test_split(X,y,test_size=0.2,random_state=143)\n"
      ],
      "metadata": {
        "id": "7869DbiUiIDh"
      },
      "execution_count": null,
      "outputs": []
    },
    {
      "cell_type": "code",
      "source": [
        "# Scaling the feature\n",
        "\n",
        "X_train = X_train/255.0\n",
        "X_test = X_test/255.0"
      ],
      "metadata": {
        "id": "AtuASH3AjTqa"
      },
      "execution_count": null,
      "outputs": []
    },
    {
      "cell_type": "code",
      "source": [
        "# Create customDataset class\n",
        "# Remember -> pytorch always want to see the features in tensor of datatype float\n",
        "#             and labels in tensor of dtype long\n",
        "from torch.utils.data import DataLoader,Dataset\n",
        "\n",
        "class customDataset(Dataset):\n",
        "\n",
        "  def __init__(self,X_feature,y_label):\n",
        "    self.X_feature = torch.tensor(X_feature,dtype=torch.float32)\n",
        "    self.y_label = torch.tensor(y_label,dtype=torch.long)\n",
        "\n",
        "  def __len__(self):\n",
        "    return len(self.X_feature)\n",
        "\n",
        "  def __getitem__(self,index):\n",
        "    return self.X_feature[index],self.y_label[index]\n"
      ],
      "metadata": {
        "id": "rP1w6mO4joZa"
      },
      "execution_count": null,
      "outputs": []
    },
    {
      "cell_type": "code",
      "source": [
        "train_dataset=customDataset(X_train,y_train)"
      ],
      "metadata": {
        "id": "bHgdbJ-DmSE_"
      },
      "execution_count": null,
      "outputs": []
    },
    {
      "cell_type": "code",
      "source": [
        "len(train_dataset)"
      ],
      "metadata": {
        "colab": {
          "base_uri": "https://localhost:8080/"
        },
        "id": "_IjY5jh6mwMS",
        "outputId": "a1326545-54e6-4de7-dac1-0399f4f5300e"
      },
      "execution_count": null,
      "outputs": [
        {
          "output_type": "execute_result",
          "data": {
            "text/plain": [
              "4800"
            ]
          },
          "metadata": {},
          "execution_count": 9
        }
      ]
    },
    {
      "cell_type": "code",
      "source": [
        "train_dataset[0]"
      ],
      "metadata": {
        "colab": {
          "base_uri": "https://localhost:8080/"
        },
        "id": "fswvGw7rm04i",
        "outputId": "677b781f-5e3b-4abd-bce9-b492d4f9400a"
      },
      "execution_count": null,
      "outputs": [
        {
          "output_type": "execute_result",
          "data": {
            "text/plain": [
              "(tensor([0.0000, 0.0000, 0.0000, 0.0000, 0.0000, 0.0000, 0.0000, 0.0000, 0.0000,\n",
              "         0.0000, 0.0000, 0.0000, 0.0000, 0.0000, 0.0000, 0.0000, 0.0000, 0.0000,\n",
              "         0.0000, 0.0000, 0.0000, 0.0000, 0.0000, 0.0000, 0.0000, 0.0000, 0.0000,\n",
              "         0.0000, 0.0000, 0.0000, 0.0000, 0.0000, 0.0000, 0.0000, 0.0000, 0.0000,\n",
              "         0.0000, 0.0000, 0.0000, 0.0000, 0.0000, 0.0000, 0.0000, 0.0000, 0.0000,\n",
              "         0.0000, 0.0000, 0.0000, 0.0000, 0.0000, 0.0000, 0.0000, 0.0000, 0.0000,\n",
              "         0.0000, 0.0000, 0.0000, 0.0000, 0.0000, 0.0000, 0.0000, 0.0000, 0.0000,\n",
              "         0.0000, 0.0000, 0.0000, 0.0000, 0.0000, 0.0000, 0.0000, 0.0000, 0.0000,\n",
              "         0.0000, 0.0000, 0.0000, 0.0000, 0.0000, 0.0000, 0.0000, 0.0000, 0.0000,\n",
              "         0.0000, 0.0000, 0.0000, 0.0000, 0.0000, 0.0000, 0.0000, 0.0000, 0.0000,\n",
              "         0.0000, 0.0000, 0.0000, 0.0000, 0.0000, 0.0000, 0.0000, 0.0000, 0.0000,\n",
              "         0.0000, 0.0000, 0.0000, 0.0000, 0.0000, 0.0000, 0.0000, 0.0000, 0.0000,\n",
              "         0.0000, 0.0000, 0.0000, 0.0000, 0.0000, 0.0000, 0.0000, 0.0000, 0.0000,\n",
              "         0.0000, 0.0000, 0.0000, 0.0000, 0.0000, 0.0000, 0.0000, 0.0000, 0.0157,\n",
              "         0.0000, 0.0039, 0.0510, 0.0000, 0.0000, 0.0000, 0.0000, 0.0078, 0.0000,\n",
              "         0.0000, 0.0000, 0.0000, 1.0000, 0.5882, 0.0000, 0.0000, 0.0000, 0.0000,\n",
              "         0.0000, 0.0000, 0.0000, 0.0000, 0.0000, 0.0000, 0.0000, 0.0000, 0.0000,\n",
              "         0.0275, 0.0000, 0.3608, 0.8510, 0.5451, 0.0000, 0.0000, 0.0000, 0.0000,\n",
              "         0.0000, 0.3843, 0.5569, 0.5765, 1.0000, 0.0000, 0.0000, 0.0000, 0.0000,\n",
              "         0.0000, 0.0000, 0.0000, 0.0000, 0.0000, 0.0000, 0.0000, 0.0000, 0.0000,\n",
              "         0.0000, 0.0118, 0.0000, 0.5451, 0.9059, 0.8824, 0.9216, 0.8157, 0.7804,\n",
              "         0.6902, 0.6627, 0.9294, 0.9725, 0.9725, 0.8000, 0.0000, 0.0000, 0.0000,\n",
              "         0.0000, 0.0000, 0.0000, 0.0000, 0.0000, 0.0000, 0.0000, 0.0000, 0.0000,\n",
              "         0.0000, 0.0000, 0.0000, 0.0000, 0.7412, 0.8824, 0.8706, 0.9529, 0.9647,\n",
              "         0.9647, 0.9922, 0.9647, 0.8784, 0.8353, 0.9137, 0.6627, 0.0000, 0.0000,\n",
              "         0.0000, 0.0000, 0.0000, 0.0000, 0.0000, 0.0000, 0.0000, 0.0000, 0.0000,\n",
              "         0.0000, 0.0000, 0.0039, 0.0000, 0.0000, 0.9059, 0.8941, 0.9216, 0.9020,\n",
              "         0.8980, 0.8706, 0.8863, 0.9020, 0.8588, 0.8549, 0.9373, 0.3647, 0.0000,\n",
              "         0.0000, 0.0000, 0.0000, 0.0000, 0.0000, 0.0000, 0.0000, 0.0000, 0.0000,\n",
              "         0.0000, 0.0000, 0.0000, 0.0000, 0.0000, 0.3255, 1.0000, 0.8980, 0.9294,\n",
              "         0.9216, 0.9137, 0.8980, 0.9412, 0.9333, 0.8667, 0.8471, 1.0000, 0.1098,\n",
              "         0.0000, 0.0000, 0.0000, 0.0000, 0.0000, 0.0000, 0.0000, 0.0000, 0.0000,\n",
              "         0.0000, 0.0000, 0.0000, 0.0118, 0.0000, 0.0000, 0.9333, 0.9176, 0.9137,\n",
              "         0.9137, 0.9216, 0.9176, 0.9059, 0.9490, 0.9216, 0.8745, 0.8314, 1.0000,\n",
              "         0.0980, 0.0000, 0.0000, 0.0000, 0.0000, 0.0000, 0.0157, 0.0000, 0.0000,\n",
              "         0.0000, 0.0039, 0.0039, 0.0196, 0.0000, 0.0000, 0.7882, 0.9216, 0.8824,\n",
              "         0.9059, 0.9216, 0.9333, 0.9255, 0.9098, 0.9451, 0.9059, 0.8745, 0.8039,\n",
              "         1.0000, 0.3647, 0.0000, 0.0000, 0.0000, 0.0000, 0.0000, 0.0000, 0.0000,\n",
              "         0.0000, 0.0000, 0.0078, 0.0118, 0.0000, 0.0000, 0.5373, 0.9098, 0.8784,\n",
              "         0.9137, 0.8941, 0.9333, 0.9216, 0.9137, 0.9294, 0.9373, 0.8941, 0.8667,\n",
              "         0.8431, 0.9333, 0.6902, 0.0000, 0.0000, 0.0039, 0.0157, 0.0196, 0.0275,\n",
              "         0.0157, 0.0039, 0.0000, 0.0000, 0.0000, 0.0000, 0.6314, 0.7490, 0.8000,\n",
              "         0.9255, 0.9059, 0.9294, 0.9216, 0.9137, 0.9216, 0.9490, 0.9451, 0.9020,\n",
              "         0.8706, 0.8667, 0.8980, 0.9725, 0.0000, 0.0000, 0.0000, 0.0000, 0.0000,\n",
              "         0.0000, 0.0000, 0.0000, 0.0000, 0.0000, 0.3647, 0.7765, 0.7412, 0.7451,\n",
              "         0.8902, 0.9216, 0.9412, 0.9255, 0.9373, 0.9569, 0.9725, 0.9373, 0.8863,\n",
              "         0.8902, 0.8902, 0.8745, 0.8627, 1.0000, 0.2039, 0.0000, 0.0000, 0.1333,\n",
              "         0.2902, 0.2275, 0.1020, 0.0980, 0.3412, 0.6863, 0.9098, 0.8314, 0.8588,\n",
              "         0.8706, 0.8196, 0.8706, 0.9098, 0.9255, 0.9059, 0.9137, 0.8824, 0.8549,\n",
              "         0.8627, 0.8941, 0.8627, 0.8706, 0.8510, 1.0000, 0.3569, 0.0000, 0.6000,\n",
              "         0.7451, 0.4667, 0.6235, 0.6941, 0.6627, 0.8000, 0.8275, 0.8078, 0.8824,\n",
              "         0.8902, 0.9059, 0.9255, 0.9137, 0.9020, 0.8863, 0.8745, 0.8667, 0.8745,\n",
              "         0.8941, 0.9059, 0.9098, 0.8745, 0.8863, 0.8353, 0.9843, 0.3882, 0.1020,\n",
              "         0.9608, 0.8784, 0.6078, 0.4314, 0.7176, 0.7882, 0.7843, 0.8392, 0.8902,\n",
              "         0.8980, 0.9059, 0.9216, 0.9255, 0.9176, 0.9098, 0.9020, 0.9098, 0.9255,\n",
              "         0.9255, 0.9137, 0.8941, 0.8902, 0.9137, 0.9059, 0.8471, 0.9647, 0.2549,\n",
              "         0.5020, 0.9294, 0.8902, 0.9725, 0.9020, 0.9216, 0.8902, 0.8784, 0.8549,\n",
              "         0.8745, 0.9176, 0.9294, 0.9137, 0.9255, 0.9137, 0.8863, 0.8784, 0.8745,\n",
              "         0.8392, 0.8235, 0.8314, 0.8706, 0.8863, 0.8863, 0.8627, 0.8667, 0.9922,\n",
              "         0.2471, 0.0902, 0.8118, 0.8902, 0.8392, 0.8941, 0.9059, 0.9137, 0.9255,\n",
              "         0.9216, 0.9059, 0.9333, 0.9294, 0.8941, 0.8706, 0.8235, 0.7961, 0.8392,\n",
              "         0.8902, 0.9216, 0.9137, 0.9020, 0.9176, 0.8902, 0.8431, 0.7922, 0.8314,\n",
              "         0.9725, 0.3294, 0.0000, 0.0000, 0.6706, 0.8706, 0.9216, 0.8980, 0.8745,\n",
              "         0.8784, 0.8863, 0.8745, 0.8627, 0.8588, 0.8627, 0.8627, 0.8941, 0.9294,\n",
              "         1.0000, 1.0000, 0.8745, 0.8745, 0.8471, 0.8353, 0.8000, 0.8039, 0.8000,\n",
              "         0.7843, 0.8118, 0.3294, 0.0000, 0.0000, 0.0000, 0.0667, 0.5686, 0.7922,\n",
              "         1.0000, 0.8980, 0.9098, 0.9176, 0.9255, 0.9137, 0.8941, 0.9608, 0.7176,\n",
              "         0.4000, 0.1020, 0.0000, 0.0000, 0.5843, 0.9608, 0.8431, 0.8667, 0.8471,\n",
              "         0.8627, 0.8510, 0.8706, 0.4588, 0.0000, 0.0039, 0.0000, 0.0000, 0.0000,\n",
              "         0.0000, 0.0000, 0.1059, 0.1725, 0.2471, 0.3020, 0.2000, 0.1059, 0.0000,\n",
              "         0.0000, 0.0000, 0.0000, 0.0000, 0.0000, 0.4706, 0.8745, 0.7608, 0.8314,\n",
              "         0.8196, 0.7922, 0.7020, 0.5765, 0.0078, 0.0000, 0.0000, 0.0000, 0.0078,\n",
              "         0.0275, 0.0000, 0.0000, 0.0000, 0.0000, 0.0000, 0.0000, 0.0000, 0.0000,\n",
              "         0.0000, 0.0000, 0.0235, 0.0118, 0.0000, 0.0000, 0.0000, 0.0000, 0.0000,\n",
              "         0.0000, 0.0000, 0.0000, 0.0000, 0.0000, 0.0000, 0.0000, 0.0000, 0.0000,\n",
              "         0.0000, 0.0000, 0.0000, 0.0000, 0.0000, 0.0000, 0.0000, 0.0000, 0.0000,\n",
              "         0.0000, 0.0000, 0.0000, 0.0000, 0.0000, 0.0000, 0.0000, 0.0000, 0.0000,\n",
              "         0.0000, 0.0000, 0.0000, 0.0000, 0.0000, 0.0000, 0.0000, 0.0000, 0.0000,\n",
              "         0.0000, 0.0000, 0.0000, 0.0000, 0.0000, 0.0000, 0.0000, 0.0000, 0.0000,\n",
              "         0.0000, 0.0000, 0.0000, 0.0000, 0.0000, 0.0000, 0.0000, 0.0000, 0.0000,\n",
              "         0.0000, 0.0000, 0.0000, 0.0000, 0.0000, 0.0000, 0.0000, 0.0000, 0.0000,\n",
              "         0.0000, 0.0000, 0.0000, 0.0000, 0.0000, 0.0000, 0.0000, 0.0000, 0.0000,\n",
              "         0.0000, 0.0000, 0.0000, 0.0000, 0.0000, 0.0000, 0.0000, 0.0000, 0.0000,\n",
              "         0.0000, 0.0000, 0.0000, 0.0000, 0.0000, 0.0000, 0.0000, 0.0000, 0.0000,\n",
              "         0.0000, 0.0000, 0.0000, 0.0000, 0.0000, 0.0000, 0.0000, 0.0000, 0.0000,\n",
              "         0.0000, 0.0000, 0.0000, 0.0000, 0.0000, 0.0000, 0.0000, 0.0000, 0.0000,\n",
              "         0.0000, 0.0000, 0.0000, 0.0000, 0.0000, 0.0000, 0.0000, 0.0000, 0.0000,\n",
              "         0.0000]),\n",
              " tensor(9))"
            ]
          },
          "metadata": {},
          "execution_count": 10
        }
      ]
    },
    {
      "cell_type": "code",
      "source": [
        "test_dataset=customDataset(X_test,y_test)"
      ],
      "metadata": {
        "id": "xt-DW9ohm4PO"
      },
      "execution_count": null,
      "outputs": []
    },
    {
      "cell_type": "code",
      "source": [
        "# Loders objects\n",
        "\n",
        "train_loder = DataLoader(train_dataset,batch_size=32,shuffle=True)\n",
        "test_loder = DataLoader(test_dataset,batch_size=32,shuffle=False)"
      ],
      "metadata": {
        "id": "nlJFuD_Im9IZ"
      },
      "execution_count": null,
      "outputs": []
    },
    {
      "cell_type": "code",
      "source": [
        "# Pytorch automatically adds lastlayer activation to softmax\n",
        "class my_model(nn.Module):\n",
        "\n",
        "  def __init__(self,X_features):\n",
        "\n",
        "    super().__init__()\n",
        "    self.model=nn.Sequential(\n",
        "        nn.Linear(X_features.shape[1],128),\n",
        "        nn.ReLU(),\n",
        "        nn.Linear(128,64),\n",
        "        nn.ReLU(),\n",
        "        nn.Linear(64,10),\n",
        "    )\n",
        "  def forward(self,X_features):\n",
        "    return self.model(X_features)\n"
      ],
      "metadata": {
        "id": "WKJI8yTRpFef"
      },
      "execution_count": null,
      "outputs": []
    },
    {
      "cell_type": "code",
      "source": [
        "epochs=100\n",
        "learning_rate=0.1"
      ],
      "metadata": {
        "id": "MQMt8gykt3ub"
      },
      "execution_count": null,
      "outputs": []
    },
    {
      "cell_type": "code",
      "source": [
        "model=my_model(X_train)\n",
        "\n",
        "loss_func=nn.CrossEntropyLoss()\n",
        "\n",
        "optimizer=torch.optim.SGD(model.parameters(),learning_rate)\n",
        "\n"
      ],
      "metadata": {
        "id": "jd9ng6aiuep5"
      },
      "execution_count": null,
      "outputs": []
    },
    {
      "cell_type": "code",
      "source": [
        "len(train_loder)"
      ],
      "metadata": {
        "colab": {
          "base_uri": "https://localhost:8080/"
        },
        "id": "F3Z_FVX51mKB",
        "outputId": "3927ed84-bfe5-4fc6-cc13-1d40b1708753"
      },
      "execution_count": null,
      "outputs": [
        {
          "output_type": "execute_result",
          "data": {
            "text/plain": [
              "150"
            ]
          },
          "metadata": {},
          "execution_count": 16
        }
      ]
    },
    {
      "cell_type": "code",
      "source": [
        "for epoch in range(epochs):\n",
        "  total_epoch_loss=0\n",
        "  for feature,label in train_loder:\n",
        "\n",
        "    y_pred=model(feature)\n",
        "\n",
        "    loss = loss_func(y_pred,label)\n",
        "\n",
        "    optimizer.zero_grad()\n",
        "    loss.backward()\n",
        "    optimizer.step()\n",
        "\n",
        "    total_epoch_loss+=loss.item()\n",
        "\n",
        "  avg_loss = total_epoch_loss/len(train_loder)\n",
        "\n",
        "  print(f'{epoch+1} : Loss:{avg_loss}')\n"
      ],
      "metadata": {
        "colab": {
          "base_uri": "https://localhost:8080/"
        },
        "id": "k9Fl2KZ_vEnl",
        "outputId": "ff4f96f9-c50f-404b-98b1-5661f93e3cd0"
      },
      "execution_count": null,
      "outputs": [
        {
          "output_type": "stream",
          "name": "stdout",
          "text": [
            "1 : Loss:1.3730025859673818\n",
            "2 : Loss:0.7792333497603734\n",
            "3 : Loss:0.6477915241320928\n",
            "4 : Loss:0.5717420694231987\n",
            "5 : Loss:0.5257387482126554\n",
            "6 : Loss:0.4928028933207194\n",
            "7 : Loss:0.46758899023135503\n",
            "8 : Loss:0.439824258039395\n",
            "9 : Loss:0.4191179216901461\n",
            "10 : Loss:0.3939172958334287\n",
            "11 : Loss:0.3731004280348619\n",
            "12 : Loss:0.36449146827061973\n",
            "13 : Loss:0.34896145343780516\n",
            "14 : Loss:0.3278542081514994\n",
            "15 : Loss:0.3311816702783108\n",
            "16 : Loss:0.31309343439837295\n",
            "17 : Loss:0.2998190579811732\n",
            "18 : Loss:0.285160740762949\n",
            "19 : Loss:0.2927793886264165\n",
            "20 : Loss:0.2780661736428738\n",
            "21 : Loss:0.2538643203179042\n",
            "22 : Loss:0.25232899002730846\n",
            "23 : Loss:0.2501535420368115\n",
            "24 : Loss:0.23579682752490044\n",
            "25 : Loss:0.23215199835598468\n",
            "26 : Loss:0.2124624769637982\n",
            "27 : Loss:0.2060824250554045\n",
            "28 : Loss:0.2061520100136598\n",
            "29 : Loss:0.20910408886770407\n",
            "30 : Loss:0.19058555046717326\n",
            "31 : Loss:0.19004529636353254\n",
            "32 : Loss:0.17798512438933053\n",
            "33 : Loss:0.18286396929373344\n",
            "34 : Loss:0.18869106172273556\n",
            "35 : Loss:0.16862516234318414\n",
            "36 : Loss:0.16131996312489114\n",
            "37 : Loss:0.15105889384945234\n",
            "38 : Loss:0.14487458014239868\n",
            "39 : Loss:0.12411302485813697\n",
            "40 : Loss:0.13687403789410987\n",
            "41 : Loss:0.16266431663185357\n",
            "42 : Loss:0.11922031426802278\n",
            "43 : Loss:0.12040639933198691\n",
            "44 : Loss:0.13874261117229858\n",
            "45 : Loss:0.13051155797826747\n",
            "46 : Loss:0.12697187101468443\n",
            "47 : Loss:0.10959127146750688\n",
            "48 : Loss:0.10982584200178583\n",
            "49 : Loss:0.10815764198079705\n",
            "50 : Loss:0.09297701968501011\n",
            "51 : Loss:0.09323847874999046\n",
            "52 : Loss:0.08870891364601752\n",
            "53 : Loss:0.09229474086935321\n",
            "54 : Loss:0.08381811631533007\n",
            "55 : Loss:0.08927676628343761\n",
            "56 : Loss:0.092444288029025\n",
            "57 : Loss:0.07940405085061987\n",
            "58 : Loss:0.06984003600974878\n",
            "59 : Loss:0.08726774409723778\n",
            "60 : Loss:0.061352080608097215\n",
            "61 : Loss:0.08611374015919865\n",
            "62 : Loss:0.0845517988782376\n",
            "63 : Loss:0.06610037932638078\n",
            "64 : Loss:0.07105971624143421\n",
            "65 : Loss:0.06816539843256275\n",
            "66 : Loss:0.05502502929884941\n",
            "67 : Loss:0.050869828224337346\n",
            "68 : Loss:0.055879248005803676\n",
            "69 : Loss:0.05941401269442091\n",
            "70 : Loss:0.06396132166342189\n",
            "71 : Loss:0.039511693726138525\n",
            "72 : Loss:0.04340960435026015\n",
            "73 : Loss:0.050232416008754326\n",
            "74 : Loss:0.0545947467815131\n",
            "75 : Loss:0.051161819697978596\n",
            "76 : Loss:0.04194139292929321\n",
            "77 : Loss:0.04581171126454137\n",
            "78 : Loss:0.1827611459683006\n",
            "79 : Loss:0.03998991012495632\n",
            "80 : Loss:0.07060458206571639\n",
            "81 : Loss:0.04173837148429205\n",
            "82 : Loss:0.025001028888703633\n",
            "83 : Loss:0.042419532532803714\n",
            "84 : Loss:0.05134110504402391\n",
            "85 : Loss:0.06130356171090777\n",
            "86 : Loss:0.030655072703569507\n",
            "87 : Loss:0.022253518196521327\n",
            "88 : Loss:0.014182771425694227\n",
            "89 : Loss:0.029561875629394004\n",
            "90 : Loss:0.026641086797074724\n",
            "91 : Loss:0.020564882696101752\n",
            "92 : Loss:0.02513764625104765\n",
            "93 : Loss:0.012779930806718767\n",
            "94 : Loss:0.009574927561334334\n",
            "95 : Loss:0.03674412882401763\n",
            "96 : Loss:0.07182203534602498\n",
            "97 : Loss:0.030280053316188667\n",
            "98 : Loss:0.015049076804037517\n",
            "99 : Loss:0.021689527001581155\n",
            "100 : Loss:0.027759984146493177\n"
          ]
        }
      ]
    },
    {
      "cell_type": "code",
      "source": [
        "# Set model to eval mode\n",
        "model.eval()"
      ],
      "metadata": {
        "colab": {
          "base_uri": "https://localhost:8080/"
        },
        "id": "qUNHZigProZL",
        "outputId": "a7d97f94-8e06-439b-e728-3df0ed62bdb7"
      },
      "execution_count": null,
      "outputs": [
        {
          "output_type": "execute_result",
          "data": {
            "text/plain": [
              "my_model(\n",
              "  (model): Sequential(\n",
              "    (0): Linear(in_features=784, out_features=128, bias=True)\n",
              "    (1): ReLU()\n",
              "    (2): Linear(in_features=128, out_features=64, bias=True)\n",
              "    (3): ReLU()\n",
              "    (4): Linear(in_features=64, out_features=10, bias=True)\n",
              "  )\n",
              ")"
            ]
          },
          "metadata": {},
          "execution_count": 18
        }
      ]
    },
    {
      "cell_type": "code",
      "source": [
        "# evaluation code\n",
        "\n",
        "total = 0\n",
        "correct = 0\n",
        "\n",
        "with torch.no_grad():\n",
        "  for batch_features,batch_labels in test_loder:\n",
        "    outputs=model(batch_features)\n",
        "\n",
        "    predicted_labels=torch.max(outputs,1)[1]\n",
        "\n",
        "    total=total+batch_labels.shape[0]\n",
        "\n",
        "    correct+=(predicted_labels==batch_labels).sum().item()\n",
        "\n",
        "print(correct/total)\n"
      ],
      "metadata": {
        "colab": {
          "base_uri": "https://localhost:8080/"
        },
        "id": "MX2GfAhSsZef",
        "outputId": "bd4e80f7-00ad-454d-a4e1-996be28b2874"
      },
      "execution_count": null,
      "outputs": [
        {
          "output_type": "stream",
          "name": "stdout",
          "text": [
            "0.8466666666666667\n"
          ]
        }
      ]
    },
    {
      "cell_type": "markdown",
      "source": [
        "Training of GPU"
      ],
      "metadata": {
        "id": "B8KH2MjrQEgK"
      }
    },
    {
      "cell_type": "code",
      "source": [
        "device = torch.device('cuda' if torch.cuda.is_available() else 'cpu') #\n"
      ],
      "metadata": {
        "id": "N5dpyDsaQqIv"
      },
      "execution_count": null,
      "outputs": []
    },
    {
      "cell_type": "code",
      "source": [
        "model = my_model(X_train)\n",
        "model=model.to(device) #"
      ],
      "metadata": {
        "id": "zTp8KCktRoFr"
      },
      "execution_count": null,
      "outputs": []
    },
    {
      "cell_type": "code",
      "source": [
        "\n",
        "loss_func=nn.CrossEntropyLoss()\n",
        "\n",
        "optimizer=torch.optim.SGD(model.parameters(),learning_rate)"
      ],
      "metadata": {
        "id": "7AN3P5mxSd6i"
      },
      "execution_count": null,
      "outputs": []
    },
    {
      "cell_type": "code",
      "source": [
        "for epoch in range(epochs):\n",
        "  total_epoch_loss=0\n",
        "  for feature,label in train_loder:\n",
        "\n",
        "    feature,label=feature.to(device),label.to(device) #\n",
        "\n",
        "    y_pred=model(feature)\n",
        "\n",
        "    loss = loss_func(y_pred,label)\n",
        "\n",
        "    optimizer.zero_grad()\n",
        "    loss.backward()\n",
        "    optimizer.step()\n",
        "\n",
        "    total_epoch_loss+=loss.item()\n",
        "\n",
        "  avg_loss = total_epoch_loss/len(train_loder)\n",
        "\n",
        "  print(f'{epoch+1} : Loss:{avg_loss}')\n"
      ],
      "metadata": {
        "colab": {
          "base_uri": "https://localhost:8080/"
        },
        "id": "bDG8fd1NR9TE",
        "outputId": "d4d5eea7-745e-4d60-e5fa-831a6624e9f1"
      },
      "execution_count": null,
      "outputs": [
        {
          "output_type": "stream",
          "name": "stdout",
          "text": [
            "1 : Loss:1.3310134307543438\n",
            "2 : Loss:0.7828498880068461\n",
            "3 : Loss:0.6523461778958638\n",
            "4 : Loss:0.5829926305015882\n",
            "5 : Loss:0.5198263344168663\n",
            "6 : Loss:0.4930828246474266\n",
            "7 : Loss:0.466365293264389\n",
            "8 : Loss:0.43726284672816595\n",
            "9 : Loss:0.4208666837712129\n",
            "10 : Loss:0.40228717535734176\n",
            "11 : Loss:0.3757937490940094\n",
            "12 : Loss:0.36800823961695034\n",
            "13 : Loss:0.359536764472723\n",
            "14 : Loss:0.35058757176001865\n",
            "15 : Loss:0.32422871291637423\n",
            "16 : Loss:0.3193486044804255\n",
            "17 : Loss:0.3012927364806334\n",
            "18 : Loss:0.2903807316720486\n",
            "19 : Loss:0.2965108414491018\n",
            "20 : Loss:0.2713577283422152\n",
            "21 : Loss:0.2782887872556845\n",
            "22 : Loss:0.2503578602274259\n",
            "23 : Loss:0.25149555869400503\n",
            "24 : Loss:0.24740154442687828\n",
            "25 : Loss:0.22900102173288664\n",
            "26 : Loss:0.22057335237661999\n",
            "27 : Loss:0.23119453025360903\n",
            "28 : Loss:0.218529580210646\n",
            "29 : Loss:0.22208120883752902\n",
            "30 : Loss:0.20523691661655902\n",
            "31 : Loss:0.19309108937780062\n",
            "32 : Loss:0.18532425255825122\n",
            "33 : Loss:0.17247808689872424\n",
            "34 : Loss:0.1796586647629738\n",
            "35 : Loss:0.1853088089823723\n",
            "36 : Loss:0.16498000077903271\n",
            "37 : Loss:0.15207139347990353\n",
            "38 : Loss:0.158081956555446\n",
            "39 : Loss:0.15182691041380167\n",
            "40 : Loss:0.15343756755193075\n",
            "41 : Loss:0.14385200802236794\n",
            "42 : Loss:0.142159194201231\n",
            "43 : Loss:0.1369464748290678\n",
            "44 : Loss:0.13801680782188971\n",
            "45 : Loss:0.1532887593905131\n",
            "46 : Loss:0.1282979685564836\n",
            "47 : Loss:0.12361602407569687\n",
            "48 : Loss:0.1306908555328846\n",
            "49 : Loss:0.14042275538357596\n",
            "50 : Loss:0.11447783729682366\n",
            "51 : Loss:0.09770132097105186\n",
            "52 : Loss:0.10439532373721401\n",
            "53 : Loss:0.10342084812000393\n",
            "54 : Loss:0.0931711746007204\n",
            "55 : Loss:0.08568725344414513\n",
            "56 : Loss:0.09571141496611138\n",
            "57 : Loss:0.09041562527107695\n",
            "58 : Loss:0.10661209505206595\n",
            "59 : Loss:0.09344896510864298\n",
            "60 : Loss:0.0701182394567877\n",
            "61 : Loss:0.08642376047714304\n",
            "62 : Loss:0.07781410492956638\n",
            "63 : Loss:0.05934488109002511\n",
            "64 : Loss:0.07522625889163465\n",
            "65 : Loss:0.09964582538387427\n",
            "66 : Loss:0.06733349033941825\n",
            "67 : Loss:0.0485441776450413\n",
            "68 : Loss:0.06383817191235722\n",
            "69 : Loss:0.05473174225228528\n",
            "70 : Loss:0.07757543419798216\n",
            "71 : Loss:0.11513731630519032\n",
            "72 : Loss:0.06608182046562433\n",
            "73 : Loss:0.05730203978174055\n",
            "74 : Loss:0.04678039548220113\n",
            "75 : Loss:0.037000315450131896\n",
            "76 : Loss:0.05085985026865577\n",
            "77 : Loss:0.05042125343189885\n",
            "78 : Loss:0.047210011288213234\n",
            "79 : Loss:0.08543783812395607\n",
            "80 : Loss:0.02936386327414463\n",
            "81 : Loss:0.03127979415624092\n",
            "82 : Loss:0.11272440077116092\n",
            "83 : Loss:0.033026556671053794\n",
            "84 : Loss:0.04818940580279256\n",
            "85 : Loss:0.04934761536928515\n",
            "86 : Loss:0.07483046886433536\n",
            "87 : Loss:0.02950579917912061\n",
            "88 : Loss:0.022805148233116294\n",
            "89 : Loss:0.03684697052114643\n",
            "90 : Loss:0.0277233939722646\n",
            "91 : Loss:0.05222620122910788\n",
            "92 : Loss:0.027985843870944032\n",
            "93 : Loss:0.0180859112929708\n",
            "94 : Loss:0.01836185275402386\n",
            "95 : Loss:0.016322867698812235\n",
            "96 : Loss:0.02286195684922859\n",
            "97 : Loss:0.03669861942141627\n",
            "98 : Loss:0.009143155847171631\n",
            "99 : Loss:0.016562017852071828\n",
            "100 : Loss:0.01049337645371755\n"
          ]
        }
      ]
    },
    {
      "cell_type": "code",
      "source": [
        "model.eval()"
      ],
      "metadata": {
        "colab": {
          "base_uri": "https://localhost:8080/"
        },
        "id": "R-U481loS-4q",
        "outputId": "fc8a7df7-21bd-4d2a-ce0c-a2928ef80da0"
      },
      "execution_count": null,
      "outputs": [
        {
          "output_type": "execute_result",
          "data": {
            "text/plain": [
              "my_model(\n",
              "  (model): Sequential(\n",
              "    (0): Linear(in_features=784, out_features=128, bias=True)\n",
              "    (1): ReLU()\n",
              "    (2): Linear(in_features=128, out_features=64, bias=True)\n",
              "    (3): ReLU()\n",
              "    (4): Linear(in_features=64, out_features=10, bias=True)\n",
              "  )\n",
              ")"
            ]
          },
          "metadata": {},
          "execution_count": 24
        }
      ]
    },
    {
      "cell_type": "code",
      "source": [
        "total=0\n",
        "correct=0\n",
        "\n",
        "with torch.no_grad():\n",
        "  for feutures,labels in test_loder:\n",
        "    feutures,labels = feutures.to(device),labels.to(device) #\n",
        "\n",
        "    outputs = model(feutures)\n",
        "\n",
        "    predicted_label = torch.max(outputs,1)[1]\n",
        "\n",
        "    total +=feature.shape[0]\n",
        "\n",
        "    correct += (predicted_label==labels).sum().item()\n",
        "print(\"The Acurracy: \",correct/total)\n",
        "# since i used the same dataset without incresing the data that's why there is no increse in accuracy!!"
      ],
      "metadata": {
        "colab": {
          "base_uri": "https://localhost:8080/"
        },
        "id": "DHX92q6vTSBG",
        "outputId": "f9f494b4-9c15-45e0-8419-fe730ac0164c"
      },
      "execution_count": null,
      "outputs": [
        {
          "output_type": "stream",
          "name": "stdout",
          "text": [
            "The Acurracy:  0.8388157894736842\n"
          ]
        }
      ]
    },
    {
      "cell_type": "code",
      "source": [
        "# We can use Big Number of batch size's in gpu traing"
      ],
      "metadata": {
        "id": "AiXFfLkbVHoo"
      },
      "execution_count": null,
      "outputs": []
    },
    {
      "cell_type": "code",
      "source": [
        "# Increase accuracy and decrese the cause of overfitting by\n",
        "# 1) increasing the dataset\n",
        "# 2) Reducing the Complexity of NN architecture\n",
        "# 3) using Adm optimizer or differnt optimizer\n",
        "# 4) differnt lr(learning rate) values\n",
        "# 5) with multipuple epochs\n",
        "# 6) BN(batch Normalization)                                              #\n",
        "# 7) Hyperparameter tuning\n",
        "# 8) Regularization # By adding the penality term to the loss function.   #\n",
        "# 9) DropOut layer.                                                       #\n",
        "# 10) By data agumentation (like tranforming the dataset)\n",
        "# 11) Early stoping"
      ],
      "metadata": {
        "id": "BDz0lL5SylIw"
      },
      "execution_count": null,
      "outputs": []
    },
    {
      "cell_type": "code",
      "source": [
        "# Evaluation with train dataset\n",
        "total=0\n",
        "correct=0\n",
        "\n",
        "with torch.no_grad():\n",
        "  for feutures,labels in train_loder:\n",
        "    feutures,labels = feutures.to(device),labels.to(device) #\n",
        "\n",
        "    outputs = model(feutures)\n",
        "\n",
        "    predicted_label = torch.max(outputs,1)[1]\n",
        "\n",
        "    total +=feature.shape[0]\n",
        "\n",
        "    correct += (predicted_label==labels).sum().item()\n",
        "print(\"The Acurracy: \",correct/total)"
      ],
      "metadata": {
        "colab": {
          "base_uri": "https://localhost:8080/"
        },
        "id": "jwpCjC-3PgHg",
        "outputId": "355614d6-2dfc-420c-eaa1-64da9a774d0d"
      },
      "execution_count": null,
      "outputs": [
        {
          "output_type": "stream",
          "name": "stdout",
          "text": [
            "The Acurracy:  0.99625\n"
          ]
        }
      ]
    },
    {
      "cell_type": "code",
      "source": [
        "# Therfore we can observe from the above the model is byhating the things->Overfitting\n",
        "# Which is not good for the model"
      ],
      "metadata": {
        "id": "pEgGOihHIEkR"
      },
      "execution_count": null,
      "outputs": []
    },
    {
      "cell_type": "code",
      "source": [
        "# The methods to reduce the overfitting\n",
        "# Next notebook"
      ],
      "metadata": {
        "id": "j0So74jpIPOh"
      },
      "execution_count": null,
      "outputs": []
    }
  ]
}